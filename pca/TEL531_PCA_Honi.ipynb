{
 "cells": [
  {
   "cell_type": "markdown",
   "metadata": {},
   "source": [
    "<br />\n",
    "<p align=\"center\">\n",
    "  <h1 align=\"center\">TEL531</h1>\n",
    "  <h1 align=\"center\">Statistical Pattern Analysis & Classification</h1>\n",
    "  <h2 align=\"center\">Principal Component Analysis</h2>\n",
    "  <h3 align=\"center\">Selahaddin Honi</h3>\n",
    "  </p>\n",
    "</p>"
   ]
  },
  {
   "cell_type": "markdown",
   "metadata": {},
   "source": [
    "### Training Data\n",
    "In this study, we have 10 face samples of different identities from **Yale Face Database B**. These image samples are stored in gray-scale pixel intensities with $(192,168)$ dimensions. Below routine reads and flattens them to construct a training set **X** with a shape of $(10,32256)$. Original faces are displayed in **copper color-map**."
   ]
  },
  {
   "cell_type": "code",
   "execution_count": null,
   "metadata": {},
   "outputs": [],
   "source": [
    "img_vector_list = []\n",
    "path_main = \"./face_Yale/\"\n",
    "img_path_list = [os.path.join(path_main,path_img) for path_img in os.listdir(path_main)]\n",
    "for img_path in img_path_list:\n",
    "    img = mpimg.imread(img_path) \n",
    "    imshape = img.shape # (192,168)\n",
    "    img_vector = img.flatten() # (32256,)\n",
    "    img_vector_list.append(img_vector)\n",
    "X = np.array(img_vector_list) # (10,32256)\n",
    "plot_faces(X,imshape=imshape,cmap=cmap)"
   ]
  },
  {
   "cell_type": "markdown",
   "metadata": {},
   "source": [
    "### PCA & Eigenfaces \n",
    "PCA implementation of Sklearn library have three basic parameters: **n_components**, **whiten** and **svd_solver**. <br>\n",
    "\n",
    "If **n_components** is in $[0,1]$ interval; then, algorithm returns you the components which explains the dataset variance by that specified value. If it is not specified ($None$), we can reach all components to make further analysis. However, it is good to know that evaluated maximum number of components are limited to the smallest size of the data: \n",
    "$$n\\_components = min(n\\_samples,n\\_features) = 10 $$\n",
    "\n",
    "**n_whiten** is such a normalization that principal components are multiplied by the square root of $n\\_samples$ and divided by singular values. This process makes uncorrelated outputs to have unit variances. Since, whitening changes (eliminates some information) the training data, keep it $False$ for our toy example. (False by default)\n",
    "\n",
    "**svd_solver** determines how the eigen-vectors are calculated. In our case, we have large feature set ($n\\_features = 32256$) and this makes the calculation of eigen-value and eigen-vectors not efficient. Choosing $svd\\_solver = auto$ will result in use of Randomized Singular Value Decomposition method (Halko et al) to solve this problem. It is an intelligent way to aproximate the first principal components quickly. \n",
    "\n",
    "\n",
    " "
   ]
  },
  {
   "cell_type": "code",
   "execution_count": null,
   "metadata": {},
   "outputs": [],
   "source": [
    "from sklearn.decomposition import PCA\n",
    "\n",
    "pca = PCA(n_components=None,whiten=False,svd_solver='auto').fit(X)\n",
    "eigenfaces = pca.components_\n",
    "coeffs = pca.transform(X)"
   ]
  },
  {
   "cell_type": "markdown",
   "metadata": {},
   "source": [
    "Evaluated PCA components are stored in **eigenfaces** variable. **coeffs** is the weights for each eigenface to transform the original face to projection space. \n",
    "$$coeffs = X \\cdot eigenfaces^T $$\n",
    "Here are the first 10 eigenfaces of the training set, respectively:\n"
   ]
  },
  {
   "cell_type": "code",
   "execution_count": null,
   "metadata": {},
   "outputs": [],
   "source": [
    "plot_faces(pca.components_,imshape=imshape,cmap=cmap)"
   ]
  },
  {
   "cell_type": "markdown",
   "metadata": {},
   "source": [
    "Because $9$ eigenfaces can cover all the training samples $10^{th}$ eigen face seems like it does not exist. "
   ]
  },
  {
   "cell_type": "markdown",
   "metadata": {},
   "source": [
    "### How to choose $k$ eigenfaces?\n",
    "Explained variance is a measurement of importance for each component to represent the data. One component's explained variance is approximately equal to the ratio of corresponding eigen-value to the sum of all eigen-values. Therefore, we can arrive an expression of cumulative sum by combining $k$ components:\n",
    "$$ Explained \\, Var(k) = \\frac{\\sum_i^k \\lambda_i}{ \\sum_{i}^N \\lambda_i } $$\n",
    "where N is the total number of components and $k\\leq N$.\n",
    "\n",
    "In the below figure, horizontal axis is the number of principal components (eigenfaces) and vertical axis is the explained variance approximation. Inspecting the cumulative explained variance (orange plot) can lead us to choose $k=5$ for $80$% explained variance desire.\n",
    "\n",
    "Again, $10^{th}$ eigenface has no impact to the data representation and the cumulative explained variance succeed to reach the top $1.0$ with $9$ eigenfaces."
   ]
  },
  {
   "cell_type": "code",
   "execution_count": null,
   "metadata": {},
   "outputs": [],
   "source": [
    "fig = plt.figure(figsize=(10,5))\n",
    "plt.plot(np.arange(1,11,1),pca.explained_variance_ratio_,marker='x',\\\n",
    "    label='explained variance by $i^{th}$ eigenface')\n",
    "plt.plot(np.arange(1,11,1),np.cumsum(pca.explained_variance_ratio_),marker='o',\\\n",
    "    label='cumulative explained variance')\n",
    "plt.xticks(np.arange(0,11,1)); plt.yticks(np.arange(0,1.1,0.1))\n",
    "plt.xlabel('PCA components (eigenfaces)'); plt.ylabel('explained variance')\n",
    "plt.grid(); plt.legend(); plt.show()"
   ]
  },
  {
   "cell_type": "markdown",
   "metadata": {},
   "source": [
    "### Projection and Error\n",
    "Eigenfaces and their identity-based coefficients are evaluated, already. Projection is simply adding the weighted summation of these eigenfaces and coefficients to the mean face of the training samples. This progress is visualized based on an illustration made by [Jake VanderPlas](https://jakevdp.github.io/PythonDataScienceHandbook/06.00-figure-code.html#Digits-Pixel-Components). My implementation is available at the bottom of this report.\n",
    "\n",
    "The original face is located in the most left of the below figure. The eigenfaces are followed the mean face in the first row of the 2D face array. Between the first and second row of the 2D face array, coefficients correspond to related eigenfaces are placed. In the second row, there are projections with $i=\\{1,...,k\\}$ eigenfaces, where $i$ increased by column and $k$ is the specified eigenface number in the last section. The values under these projections are their L2 norms to the original face. $k^{th}$ column projection starting after the mean face is the final projection and also displayed in the most right of the figure."
   ]
  },
  {
   "cell_type": "code",
   "execution_count": null,
   "metadata": {},
   "outputs": [],
   "source": [
    "k = 5\n",
    "for i in range(1,k+1):\n",
    "    plot_pca_projection(\n",
    "        im_face=X[8],\n",
    "        mean_face=np.mean(X,axis=0),\n",
    "        eigenfaces=eigenfaces,\n",
    "        coeffs=coeffs[8],\n",
    "        n_components=9,\n",
    "        k_components=i,\n",
    "        imshape=imshape,\n",
    "        cmap=cmap\n",
    "        )"
   ]
  },
  {
   "cell_type": "markdown",
   "metadata": {},
   "source": [
    "### Utilizing PCA for Storage Purpose\n",
    "Let's make an approximate analysis on a question of how much memory space we are required to store the **10** faces.\n",
    "Say, **S** is the memory allocation for one face of the dataset **X**. Thus, in total **10S** space is required without PCA.\n",
    "In this application, we have found that $k=5$ eigenfaces performed acceptable results to represent the **X**. Therefore, we might store **5** eigenfaces, **1** mean face and relatively small coefficients matrix to reconstruct the **X**. If memory need for coefficients is denoted as **eps** total memory need can be evaluated to **6S+eps**.\n",
    "\n",
    "Finally, we infer from the assumptions above that PCA has provided **almost 40%** gain in terms of memory space."
   ]
  },
  {
   "cell_type": "markdown",
   "metadata": {},
   "source": [
    "### Projections for Each Identity"
   ]
  },
  {
   "cell_type": "code",
   "execution_count": null,
   "metadata": {},
   "outputs": [],
   "source": [
    "for id in range(len(X)):\n",
    "    plot_pca_projection(\n",
    "        im_face=X[id],\n",
    "        mean_face=np.mean(X,axis=0),\n",
    "        eigenfaces=eigenfaces,\n",
    "        coeffs=coeffs[id],\n",
    "        n_components=9,\n",
    "        k_components=None,\n",
    "        imshape=imshape,\n",
    "        cmap=cmap\n",
    "    )"
   ]
  },
  {
   "cell_type": "markdown",
   "metadata": {},
   "source": [
    "### Function Definitions"
   ]
  },
  {
   "cell_type": "code",
   "execution_count": null,
   "metadata": {},
   "outputs": [],
   "source": [
    "import numpy as np\n",
    "import matplotlib.pyplot as plt\n",
    "import matplotlib.image as mpimg\n",
    "import os\n",
    "\n",
    "cmap = 'copper'\n",
    "\n",
    "def plot_faces(ims,imshape,cmap='gray'):\n",
    "    fig = plt.figure(figsize=(18,3),constrained_layout=True, dpi=100)\n",
    "    gs  = fig.add_gridspec(1,len(ims))\n",
    "    for i,im in enumerate(ims):\n",
    "        ax = fig.add_subplot(gs[0,i],xticks=[],yticks=[])\n",
    "        ax.imshow(im.reshape(imshape),cmap=cmap)\n",
    "\n",
    "def plot_pca_projection(\n",
    "        im_face, \n",
    "        mean_face, \n",
    "        eigenfaces, \n",
    "        coeffs, \n",
    "        n_components=None, \n",
    "        k_components=None, \n",
    "        imshape=(0,0),\n",
    "        cmap='gray'\n",
    "    ):\n",
    "\n",
    "    n_components = len(eigenfaces) if n_components is None else n_components\n",
    "    k_components = n_components if k_components is None else k_components\n",
    "        \n",
    "    def plot_component(fig,pos,im,text='',left_align=True,plus=0,l2_norm=None):\n",
    "        ax = fig.add_subplot(gs[pos[0],pos[1]],xticks=[],yticks=[])\n",
    "        ax.imshow(im.reshape(imshape),cmap=cmap)\n",
    "        ax.set_title(text,pad=-0.1)\n",
    "        if left_align:    \n",
    "            ax.text(-40,103,'+',fontsize=12,alpha=plus)\n",
    "        if l2_norm is not None:\n",
    "            ax.text(45,220,f'{l2_norm:.1f}',fontsize=12)\n",
    "\n",
    "    fig = plt.figure(figsize=(18,3),constrained_layout=True, dpi=100)\n",
    "    gs  = fig.add_gridspec(2,n_components+5)\n",
    "    fig.set_constrained_layout_pads(w_pad=0, h_pad=0, hspace=0, wspace=0)\n",
    "\n",
    "    # Mean axes\n",
    "    plot_component(fig,[0,2],im=mean_face,text=f'$mean\\,face$',left_align=False)\n",
    "    plot_component(fig,[1,2],im=mean_face,text=r'$coeffs\\longrightarrow $',left_align=False)\n",
    "\n",
    "    # Other axes\n",
    "    proj_face = mean_face \n",
    "    for k in range(n_components):\n",
    "        eig_face = eigenfaces[k]\n",
    "        plot_component(fig,[0,k+3],im=eig_face,text=f'$eigen\\,face_{k+1}$')\n",
    "\n",
    "        if k in range(k_components):\n",
    "            coeff = coeffs[k]\n",
    "            proj_face += eig_face * coeff\n",
    "            l2_norm = np.sum(np.square(im_face - proj_face)) / len(im_face)\n",
    "            plot_component(fig,[1,k+3],im=proj_face,text=f'{coeffs[k]:4.1f}',plus=1,l2_norm=l2_norm)\n",
    "\n",
    "    # Left & Right axes\n",
    "    axL = fig.add_subplot(gs[:, :2],xticks=[],yticks=[]); axL.set_title('Original')\n",
    "    axR = fig.add_subplot(gs[:,-2:],xticks=[],yticks=[]); axR.set_title('Projection')\n",
    "\n",
    "    axL.imshow(im_face.reshape(imshape),cmap=cmap)\n",
    "    axR.imshow(proj_face.reshape(imshape),cmap=cmap)\n",
    "\n",
    "    axL.text(45,203,f'$L2 \\, norms \\longrightarrow$',fontsize=12)\n",
    "    axR.text(75,203,f'{l2_norm:.1f}',fontsize=12)"
   ]
  }
 ],
 "metadata": {
  "interpreter": {
   "hash": "e54d2b99d75fc499c9357f82e530c6b367b2f14e07ff56f9cb69373661b41006"
  },
  "kernelspec": {
   "display_name": "Python 3.7.9 64-bit",
   "language": "python",
   "name": "python3"
  },
  "language_info": {
   "codemirror_mode": {
    "name": "ipython",
    "version": 3
   },
   "file_extension": ".py",
   "mimetype": "text/x-python",
   "name": "python",
   "nbconvert_exporter": "python",
   "pygments_lexer": "ipython3",
   "version": "3.7.9"
  },
  "orig_nbformat": 4
 },
 "nbformat": 4,
 "nbformat_minor": 2
}
